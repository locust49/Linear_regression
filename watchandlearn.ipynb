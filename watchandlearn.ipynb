{
 "cells": [
  {
   "cell_type": "code",
   "execution_count": 1,
   "id": "c0a87cfc-f5bf-4f2f-88f2-c40e2b28bab6",
   "metadata": {},
   "outputs": [
    {
     "name": "stdout",
     "output_type": "stream",
     "text": [
      "<class 'pandas.core.frame.DataFrame'>\n",
      "RangeIndex: 24 entries, 0 to 23\n",
      "Data columns (total 2 columns):\n",
      " #   Column  Non-Null Count  Dtype\n",
      "---  ------  --------------  -----\n",
      " 0   km      24 non-null     int64\n",
      " 1   price   24 non-null     int64\n",
      "dtypes: int64(2)\n",
      "memory usage: 512.0 bytes\n"
     ]
    }
   ],
   "source": [
    "import pandas as pd\n",
    "import matplotlib.pyplot as plt\n",
    "\n",
    "df = pd.read_csv('data.csv')\n",
    "df.info()\n"
   ]
  },
  {
   "cell_type": "code",
   "execution_count": 2,
   "id": "23fa6b5d-aa97-474d-9e2c-c5fbd3afdc1f",
   "metadata": {},
   "outputs": [],
   "source": [
    "df_norm = (df-df.min())/(df.max()-df.min())"
   ]
  },
  {
   "cell_type": "code",
   "execution_count": 4,
   "id": "3835f3b1-47da-44b9-923d-3e0eb51467c7",
   "metadata": {},
   "outputs": [
    {
     "data": {
      "image/png": "[encoded data removed]",
      "text/plain": [
       "<Figure size 432x288 with 1 Axes>"
      ]
     },
     "metadata": {
      "needs_background": "light"
     },
     "output_type": "display_data"
    }
   ],
   "source": [
    "plt.xlabel('Kms')\n",
    "plt.ylabel('Price')\n",
    "\n",
    "plt.scatter(df_norm['km'],\n",
    "            df_norm['price'],\n",
    "           s=15)\n",
    "#plt.axis(xmin=0, ymin=0)\n",
    "\n",
    "plt.show()"
   ]
  },
  {
   "cell_type": "markdown",
   "id": "46fcd001-3f81-46f4-bbde-649846f1dbc3",
   "metadata": {
    "tags": []
   },
   "source": [
    "#### h (hypothesis function) maps from x's to y's"
   ]
  },
  {
   "cell_type": "raw",
   "id": "ca89ae6a-b931-42ac-814b-18e3df7626a4",
   "metadata": {},
   "source": [
    "The hypothesis function predicts that the Y is a linear function \n",
    "This model is called univariate linear regression."
   ]
  },
  {
   "cell_type": "markdown",
   "id": "b30cfeb2-6bfe-4aea-acba-ca4119b9f1ec",
   "metadata": {},
   "source": [
    "$$ h(x) = \\theta_{0} + \\theta_{1} * x $$\n",
    "ie. $$ price(kms) = \\theta_{0}  + (\\theta_{1} ∗ kms) $$"
   ]
  },
  {
   "cell_type": "markdown",
   "id": "dfe8fb5a-1fb9-42a7-824b-c69c3d39f91d",
   "metadata": {},
   "source": [
    "A pair $(x ^i,y ^i)$ is called a training example, and the dataset $(x^i , y^i); {i = \\{1, . . . , m\\}}$ is called a training set."
   ]
  },
  {
   "cell_type": "markdown",
   "id": "3719dfaf-f084-4b42-bfb9-783b0bbbc12b",
   "metadata": {},
   "source": [
    "#### Parameters:\n",
    "\n",
    "$$\\theta_{0},\\theta_{1}$$"
   ]
  },
  {
   "cell_type": "markdown",
   "id": "c9d4663e-eb03-411a-9ee5-262ddab2b700",
   "metadata": {
    "tags": []
   },
   "source": [
    "#### Cost function (Squared error function)"
   ]
  },
  {
   "cell_type": "raw",
   "id": "27e350d7-de59-4452-ad8b-8f177bdafacb",
   "metadata": {},
   "source": [
    "The cost function will let us figure out how to fit the best possible straight line to our data."
   ]
  },
  {
   "cell_type": "markdown",
   "id": "21dc6ca2-4766-47e1-b8f9-8ec9a2d33586",
   "metadata": {},
   "source": [
    "$$J(\\theta_{0},\\theta_{1})=\\frac{1}{2m}\\sum\\limits _{i=1} ^{m}(\\hat{y}_{i} - y_{i})^2$$\n",
    "<br>\n",
    "$$J(\\theta_{0},\\theta_{1})= \\frac{1}{2m}\\sum\\limits _{i=1} ^{m}(h_{\\theta}(x_{i}) - y_{i})^2$$"
   ]
  },
  {
   "cell_type": "raw",
   "id": "4fefb2d7-567c-4db5-8c88-92190269c674",
   "metadata": {},
   "source": [
    "h(xi) are the prediction of the pricing, and yi are the actual values, the difference then means the error\n",
    "Reference :https://www.coursera.org/learn/machine-learning/supplement/nhzyF/cost-function"
   ]
  },
  {
   "cell_type": "markdown",
   "id": "3964f929-30c9-492d-864b-4ed6fa7fba3a",
   "metadata": {},
   "source": [
    "#### Goal :\n",
    "$ minimize(\\theta_{0}, \\theta_{1}) := J(\\theta_{0},\\theta_{1})$"
   ]
  },
  {
   "cell_type": "raw",
   "id": "25f46e8c-e1f4-412b-908a-d90e1b4cd55f",
   "metadata": {},
   "source": [
    "We give Teta0 the value of 0\n",
    "==> h(x) == Teta1 + x\n",
    "==> J(Teta1)\n",
    "\n",
    "Teta1 == 1 ===> J(1) == 0"
   ]
  },
  {
   "cell_type": "markdown",
   "id": "d8dac66a-9494-4749-84e7-37d5ebe2ca6d",
   "metadata": {},
   "source": [
    "## Gradient descent"
   ]
  },
  {
   "cell_type": "raw",
   "id": "9bca1e33-1364-4e4f-ae91-210ee14b3c4d",
   "metadata": {},
   "source": [
    "gradient descent is an algorithm for minimizing functions like the cost"
   ]
  },
  {
   "cell_type": "markdown",
   "id": "73e8466c-adf8-478c-9e5a-d2b6403b7449",
   "metadata": {},
   "source": [
    "repeat until convergence$\\{$\n",
    "$$\\theta_{j}:=\\theta_{j}-\\alpha\\frac{\\delta}{\\delta\\theta_{j}J(\\theta_{0},\\theta_{1})}$$ $\\}$<br>for j = 0 and j = 1 <br>\n",
    "$\\alpha$ is the learning rate"
   ]
  },
  {
   "cell_type": "raw",
   "id": "35a56fa9-71f8-4ea8-831a-59b586de700b",
   "metadata": {},
   "source": [
    "Implementation :"
   ]
  },
  {
   "cell_type": "markdown",
   "id": "37aef221-8026-4e06-a4d4-bd5bed361061",
   "metadata": {},
   "source": [
    "$\n",
    "temp0 := \\theta_{0}-\\alpha\\frac{\\delta} {\\delta\\theta_{0}}J(\\theta_{0},\\theta_{1})\n",
    "$\n",
    "<br>\n",
    "$\n",
    "temp1 := \\theta_{1}-\\alpha\\frac{\\delta} {\\delta\\theta_{1}}J(\\theta_{0},\\theta_{1})\n",
    "$\n",
    "<br>\n",
    "$\n",
    "\\theta_{0} := temp0\n",
    "$\n",
    "<br>\n",
    "$\n",
    "\\theta_{1} := temp1\n",
    "$"
   ]
  },
  {
   "cell_type": "raw",
   "id": "f2b821b3-f15e-4ff5-8ca0-b9abfe894f57",
   "metadata": {},
   "source": [
    "Derivatives: "
   ]
  },
  {
   "cell_type": "markdown",
   "id": "5e670623-19c8-4d17-81df-e1d3d03b25e1",
   "metadata": {},
   "source": [
    "$\\frac{\\delta} {\\delta\\theta_{0}}J(\\theta_{0},\\theta_{1}) = \\frac{1}{m}\\sum\\limits_{i=1}^{m}(h_\\theta(x^i) - y^i)\n",
    "$\n",
    "<br>\n",
    "$\\frac{\\delta} {\\delta\\theta_{1}}J(\\theta_{0},\\theta_{1}) = \\frac{1}{m}\\sum\\limits_{i=1}^{m}(h_\\theta(x^i) - y^i) * x^i\n",
    "$"
   ]
  },
  {
   "cell_type": "code",
   "execution_count": null,
   "id": "e2dac3c4-d0da-4bcc-94de-903081d6129f",
   "metadata": {},
   "outputs": [],
   "source": []
  }
 ],
 "metadata": {
  "kernelspec": {
   "display_name": "Python 3 (ipykernel)",
   "language": "python",
   "name": "python3"
  },
  "language_info": {
   "codemirror_mode": {
    "name": "ipython",
    "version": 3
   },
   "file_extension": ".py",
   "mimetype": "text/x-python",
   "name": "python",
   "nbconvert_exporter": "python",
   "pygments_lexer": "ipython3",
   "version": "3.9.6"
  }
 },
 "nbformat": 4,
 "nbformat_minor": 5
}
