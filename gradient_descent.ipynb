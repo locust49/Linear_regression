{
 "cells": [
  {
   "cell_type": "code",
   "execution_count": 43,
   "source": [
    "import pandas as pd\n",
    "import matplotlib.pyplot as plt\n",
    "\n",
    "df = pd.read_csv('data.csv')\n",
    "df.info()"
   ],
   "outputs": [
    {
     "output_type": "stream",
     "name": "stdout",
     "text": [
      "<class 'pandas.core.frame.DataFrame'>\n",
      "RangeIndex: 24 entries, 0 to 23\n",
      "Data columns (total 2 columns):\n",
      " #   Column  Non-Null Count  Dtype\n",
      "---  ------  --------------  -----\n",
      " 0   km      24 non-null     int64\n",
      " 1   price   24 non-null     int64\n",
      "dtypes: int64(2)\n",
      "memory usage: 512.0 bytes\n"
     ]
    }
   ],
   "metadata": {}
  },
  {
   "cell_type": "code",
   "execution_count": 44,
   "source": [
    "#df_norm = (df-df.min())/(df.max()-df.min())\n",
    "df_norm = df / df.max()\n",
    "\n",
    "print(df)\n",
    "m = df.count()['km']"
   ],
   "outputs": [
    {
     "output_type": "stream",
     "name": "stdout",
     "text": [
      "        km  price\n",
      "0   240000   3650\n",
      "1   139800   3800\n",
      "2   150500   4400\n",
      "3   185530   4450\n",
      "4   176000   5250\n",
      "5   114800   5350\n",
      "6   166800   5800\n",
      "7    89000   5990\n",
      "8   144500   5999\n",
      "9    84000   6200\n",
      "10   82029   6390\n",
      "11   63060   6390\n",
      "12   74000   6600\n",
      "13   97500   6800\n",
      "14   67000   6800\n",
      "15   76025   6900\n",
      "16   48235   6900\n",
      "17   93000   6990\n",
      "18   60949   7490\n",
      "19   65674   7555\n",
      "20   54000   7990\n",
      "21   68500   7990\n",
      "22   22899   7990\n",
      "23   61789   8290\n"
     ]
    }
   ],
   "metadata": {}
  },
  {
   "cell_type": "code",
   "execution_count": 46,
   "source": [
    "plt.xlabel('Kms normalized')\n",
    "plt.ylabel('Price normalized')\n",
    "         c='r')\n",
    "plt.scatter(df_norm['km'],\n",
    "            df_norm['price'],\n",
    "           s=15)\n",
    "            s=15)\n",
    "\n",
    "plt.show()"
   ],
   "outputs": [
    {
     "output_type": "error",
     "ename": "IndentationError",
     "evalue": "unindent does not match any outer indentation level (<tokenize>, line 6)",
     "traceback": [
      "\u001b[0;36m  File \u001b[0;32m\"<tokenize>\"\u001b[0;36m, line \u001b[0;32m6\u001b[0m\n\u001b[0;31m    s=15)\u001b[0m\n\u001b[0m    ^\u001b[0m\n\u001b[0;31mIndentationError\u001b[0m\u001b[0;31m:\u001b[0m unindent does not match any outer indentation level\n"
     ]
    }
   ],
   "metadata": {}
  },
  {
   "cell_type": "code",
   "execution_count": null,
   "source": [
    "def hypothesis(x, theta0, theta1):\n",
    "    return (theta0 + theta1 * x)\n",
    "\n",
    "def cost(theta0, theta1, m):\n",
    "    sum_0 = 0\n",
    "    sum_1 = 0\n",
    "    for i in range(1,m):\n",
    "        sum_0 += (hypothesis(data['km'][i], theta0, theta1) - data['price'][i])\n",
    "        sum_1 += (hypothesis(data['km'][i], theta0, theta1) - data['price'][i]) * data['km'][i]\n",
    "    return ((1/m) * sum_0, (1/m) * sum_1)\n",
    "\n",
    "def ft_gradient_descent(lr):\n",
    "    theta0 = 0\n",
    "    theta1 = 0\n",
    "    iteration = 0\n",
    "    tmp0 = 100000\n",
    "    error_range = 0.00000001\n",
    "    while 1 : \n",
    "        prime0, prime1 = cost(theta0, theta1, m)\n",
    "        theta0 -= lr * prime0\n",
    "        theta1 -= lr * prime1\n",
    "#         print(tmp0, prime0, tmp0-prime0)\n",
    "        if tmp0 - prime0 < error_range and tmp0 - prime0 > - error_range:\n",
    "            break\n",
    "        tmp0 = prime0\n",
    "#         theta1 = tmp1\n",
    "        iteration += 1\n",
    "    print(iteration)\n",
    "    return(theta0, theta1)\n",
    "        \n",
    "data = df_norm\n",
    "\n",
    "theta0, theta1 = ft_gradient_descent(0.01)"
   ],
   "outputs": [
    {
     "output_type": "stream",
     "name": "stdout",
     "text": [
      "20674\n"
     ]
    }
   ],
   "metadata": {}
  },
  {
   "cell_type": "code",
   "execution_count": null,
   "source": [
    "plt.plot(data['km'],\n",
    "         theta0 + theta1 * data['km'],\n",
    "        c='r')\n",
    "\n",
    "plt.scatter(data['km'],\n",
    "            data['price'],\n",
    "           s=15)"
   ],
   "outputs": [
    {
     "output_type": "execute_result",
     "data": {
      "text/plain": [
       "<matplotlib.collections.PathCollection at 0x7fd9d902e9d0>"
      ]
     },
     "metadata": {},
     "execution_count": 24
    },
    {
     "output_type": "display_data",
     "data": {
      "image/png": "[encoded data removed]",
      "text/plain": [
       "<Figure size 432x288 with 1 Axes>"
      ]
     },
     "metadata": {
      "needs_background": "light"
     }
    }
   ],
   "metadata": {}
  },
  {
   "cell_type": "code",
   "execution_count": null,
   "source": [
    "def get_price(kms):\n",
    "    return (theta0 + theta1 * (kms / df.max()['km'])) * df.max()['price']\n",
    "\t#return theta0 + theta1 * kms\n",
    "get_price(8290)"
   ],
   "outputs": [
    {
     "output_type": "execute_result",
     "data": {
      "text/plain": [
       "8384.422865929828"
      ]
     },
     "metadata": {},
     "execution_count": 25
    }
   ],
   "metadata": {}
  },
  {
   "cell_type": "code",
   "execution_count": null,
   "source": [
    "plt.plot(df['km'],\n",
    "         (theta0 + theta1 * (df['km'] / df.max()['km'])) * df.max()['price'],\n",
    "        c='r')\n",
    "\n",
    "plt.scatter(df['km'],\n",
    "            df['price'],\n",
    "           s=15)"
   ],
   "outputs": [
    {
     "output_type": "execute_result",
     "data": {
      "text/plain": [
       "<matplotlib.collections.PathCollection at 0x7fd9d83ebe50>"
      ]
     },
     "metadata": {},
     "execution_count": 39
    },
    {
     "output_type": "display_data",
     "data": {
      "image/png": "[encoded data removed]",
      "text/plain": [
       "<Figure size 432x288 with 1 Axes>"
      ]
     },
     "metadata": {
      "needs_background": "light"
     }
    }
   ],
   "metadata": {}
  }
 ],
 "metadata": {
  "kernelspec": {
   "name": "python3",
   "display_name": "Python 3.9.6 64-bit ('base': conda)"
  },
  "language_info": {
   "codemirror_mode": {
    "name": "ipython",
    "version": 3
   },
   "file_extension": ".py",
   "mimetype": "text/x-python",
   "name": "python",
   "nbconvert_exporter": "python",
   "pygments_lexer": "ipython3",
   "version": "3.9.6"
  },
  "interpreter": {
   "hash": "82f95a79f2d9ddb50b001951806910cf982ea44cf7bba1395f920bf331f1ce4a"
  }
 },
 "nbformat": 4,
 "nbformat_minor": 5
}