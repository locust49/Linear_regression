{
 "cells": [
  {
   "cell_type": "code",
   "execution_count": 1,
   "id": "7a8fcf2d-932f-4b76-b913-3d60145829a9",
   "metadata": {},
   "outputs": [
    {
     "name": "stdout",
     "output_type": "stream",
     "text": [
      "<class 'pandas.core.frame.DataFrame'>\n",
      "RangeIndex: 24 entries, 0 to 23\n",
      "Data columns (total 2 columns):\n",
      " #   Column  Non-Null Count  Dtype\n",
      "---  ------  --------------  -----\n",
      " 0   km      24 non-null     int64\n",
      " 1   price   24 non-null     int64\n",
      "dtypes: int64(2)\n",
      "memory usage: 512.0 bytes\n"
     ]
    }
   ],
   "source": [
    "import pandas as pd\n",
    "import matplotlib.pyplot as plt\n",
    "\n",
    "df = pd.read_csv('data.csv')\n",
    "df.info()"
   ]
  },
  {
   "cell_type": "code",
   "execution_count": 34,
   "id": "19228d23-462b-44ba-ae93-353dd30bf6e2",
   "metadata": {},
   "outputs": [
    {
     "name": "stdout",
     "output_type": "stream",
     "text": [
      "        km  price\n",
      "0   240000   3650\n",
      "1   139800   3800\n",
      "2   150500   4400\n",
      "3   185530   4450\n",
      "4   176000   5250\n",
      "5   114800   5350\n",
      "6   166800   5800\n",
      "7    89000   5990\n",
      "8   144500   5999\n",
      "9    84000   6200\n",
      "10   82029   6390\n",
      "11   63060   6390\n",
      "12   74000   6600\n",
      "13   97500   6800\n",
      "14   67000   6800\n",
      "15   76025   6900\n",
      "16   48235   6900\n",
      "17   93000   6990\n",
      "18   60949   7490\n",
      "19   65674   7555\n",
      "20   54000   7990\n",
      "21   68500   7990\n",
      "22   22899   7990\n",
      "23   61789   8290\n"
     ]
    }
   ],
   "source": [
    "# df_norm = (df-df.min())/(df.max()-df.min())\n",
    "df_norm = df / df.max()\n",
    "\n",
    "print(df)\n",
    "m = df.count()['km']"
   ]
  },
  {
   "cell_type": "code",
   "execution_count": 3,
   "id": "952eb39d-cb14-442c-a959-237abcf31211",
   "metadata": {},
   "outputs": [
    {
     "data": {
      "image/png": "[encoded data removed]",
      "text/plain": [
       "<Figure size 432x288 with 1 Axes>"
      ]
     },
     "metadata": {
      "needs_background": "light"
     },
     "output_type": "display_data"
    }
   ],
   "source": [
    "plt.xlabel('Kms')\n",
    "plt.ylabel('Price')\n",
    "\n",
    "plt.scatter(df_norm['km'],\n",
    "            df_norm['price'],\n",
    "           s=15)\n",
    "#plt.axis(xmin=0, ymin=0)\n",
    "\n",
    "plt.show()"
   ]
  },
  {
   "cell_type": "code",
   "execution_count": 25,
   "id": "fa28876c-fc33-4e57-8b75-ea5a78aa5f91",
   "metadata": {},
   "outputs": [
    {
     "name": "stdout",
     "output_type": "stream",
     "text": [
      "20674\n"
     ]
    }
   ],
   "source": [
    "def hypothesis(x, theta0, theta1):\n",
    "    return (theta0 + theta1 * x)\n",
    "\n",
    "def cost(theta0, theta1, m):\n",
    "    sum_0 = 0\n",
    "    sum_1 = 0\n",
    "    for i in range(1,m):\n",
    "        sum_0 += (hypothesis(data['km'][i], theta0, theta1) - data['price'][i])\n",
    "        sum_1 += (hypothesis(data['km'][i], theta0, theta1) - data['price'][i]) * data['km'][i]\n",
    "    return ((1/m) * sum_0, (1/m) * sum_1)\n",
    "\n",
    "def ft_gradient_descent(lr):\n",
    "    theta0 = 0\n",
    "    theta1 = 0\n",
    "    iteration = 0\n",
    "    tmp0 = 100000\n",
    "    error_range = 0.00000001\n",
    "    while 1 : \n",
    "        prime0, prime1 = cost(theta0, theta1, m)\n",
    "        theta0 -= lr * prime0\n",
    "        theta1 -= lr * prime1\n",
    "#         print(tmp0, prime0, tmp0-prime0)\n",
    "        if tmp0 - prime0 < error_range and tmp0 - prime0 > - error_range:\n",
    "            break\n",
    "        tmp0 = prime0\n",
    "#         theta1 = tmp1\n",
    "        iteration += 1\n",
    "    print(iteration)\n",
    "    return(theta0, theta1)\n",
    "        \n",
    "data = df_norm\n",
    "\n",
    "theta0, theta1 = ft_gradient_descent(0.01)"
   ]
  },
  {
   "cell_type": "code",
   "execution_count": 26,
   "id": "8eb0df78-a92b-4a82-b11f-fe261d3037e1",
   "metadata": {},
   "outputs": [
    {
     "data": {
      "text/plain": [
       "<matplotlib.collections.PathCollection at 0x7f169c808a60>"
      ]
     },
     "execution_count": 26,
     "metadata": {},
     "output_type": "execute_result"
    },
    {
     "data": {
      "image/png": "[encoded data removed]",
      "text/plain": [
       "<Figure size 432x288 with 1 Axes>"
      ]
     },
     "metadata": {
      "needs_background": "light"
     },
     "output_type": "display_data"
    }
   ],
   "source": [
    "plt.plot(data['km'],\n",
    "         theta0 + theta1 * data['km'],\n",
    "        c='r')\n",
    "\n",
    "plt.scatter(data['km'],\n",
    "            data['price'],\n",
    "           s=15)"
   ]
  },
  {
   "cell_type": "code",
   "execution_count": 53,
   "id": "55e805a7-f472-4f36-8603-d373930616ff",
   "metadata": {},
   "outputs": [
    {
     "data": {
      "text/plain": [
       "0.47143466341078266"
      ]
     },
     "execution_count": 53,
     "metadata": {},
     "output_type": "execute_result"
    }
   ],
   "source": [
    "def get_price(kms):\n",
    "    return (theta0 + theta1 * kms / df.max()['km']) * df.max()['price']\n",
    "#     return theta0 + theta1 * kms\n",
    "get_price(0.87)"
   ]
  },
  {
   "cell_type": "code",
   "execution_count": null,
   "id": "6f6615b5-4342-4ce1-a48b-2b8c72a72c5c",
   "metadata": {},
   "outputs": [],
   "source": []
  }
 ],
 "metadata": {
  "kernelspec": {
   "display_name": "Python 3 (ipykernel)",
   "language": "python",
   "name": "python3"
  },
  "language_info": {
   "codemirror_mode": {
    "name": "ipython",
    "version": 3
   },
   "file_extension": ".py",
   "mimetype": "text/x-python",
   "name": "python",
   "nbconvert_exporter": "python",
   "pygments_lexer": "ipython3",
   "version": "3.9.6"
  }
 },
 "nbformat": 4,
 "nbformat_minor": 5
}
